{
 "cells": [
  {
   "cell_type": "code",
   "execution_count": 8,
   "id": "0a4dcbe8",
   "metadata": {},
   "outputs": [],
   "source": [
    "import pandas as pd\n",
    "import numpy as np\n",
    "import matplotlib.pyplot as plt"
   ]
  },
  {
   "cell_type": "code",
   "execution_count": 14,
   "id": "8305d147",
   "metadata": {},
   "outputs": [],
   "source": [
    "# Step 1: Load and filter the dataset\n",
    "df = pd.read_parquet(\"Train.parquet\")"
   ]
  },
  {
   "cell_type": "code",
   "execution_count": 15,
   "id": "d6803cee",
   "metadata": {},
   "outputs": [
    {
     "data": {
      "text/html": [
       "<div>\n",
       "<style scoped>\n",
       "    .dataframe tbody tr th:only-of-type {\n",
       "        vertical-align: middle;\n",
       "    }\n",
       "\n",
       "    .dataframe tbody tr th {\n",
       "        vertical-align: top;\n",
       "    }\n",
       "\n",
       "    .dataframe thead th {\n",
       "        text-align: right;\n",
       "    }\n",
       "</style>\n",
       "<table border=\"1\" class=\"dataframe\">\n",
       "  <thead>\n",
       "    <tr style=\"text-align: right;\">\n",
       "      <th></th>\n",
       "      <th>Patient-Uid</th>\n",
       "      <th>Date</th>\n",
       "      <th>Incident</th>\n",
       "    </tr>\n",
       "  </thead>\n",
       "  <tbody>\n",
       "    <tr>\n",
       "      <th>0</th>\n",
       "      <td>a0db1e73-1c7c-11ec-ae39-16262ee38c7f</td>\n",
       "      <td>2019-03-09</td>\n",
       "      <td>PRIMARY_DIAGNOSIS</td>\n",
       "    </tr>\n",
       "    <tr>\n",
       "      <th>1</th>\n",
       "      <td>a0dc93f2-1c7c-11ec-9cd2-16262ee38c7f</td>\n",
       "      <td>2015-05-16</td>\n",
       "      <td>PRIMARY_DIAGNOSIS</td>\n",
       "    </tr>\n",
       "    <tr>\n",
       "      <th>3</th>\n",
       "      <td>a0dc94c6-1c7c-11ec-a3a0-16262ee38c7f</td>\n",
       "      <td>2018-01-30</td>\n",
       "      <td>SYMPTOM_TYPE_0</td>\n",
       "    </tr>\n",
       "    <tr>\n",
       "      <th>4</th>\n",
       "      <td>a0dc950b-1c7c-11ec-b6ec-16262ee38c7f</td>\n",
       "      <td>2015-04-22</td>\n",
       "      <td>DRUG_TYPE_0</td>\n",
       "    </tr>\n",
       "    <tr>\n",
       "      <th>8</th>\n",
       "      <td>a0dc9543-1c7c-11ec-bb63-16262ee38c7f</td>\n",
       "      <td>2016-06-18</td>\n",
       "      <td>DRUG_TYPE_1</td>\n",
       "    </tr>\n",
       "    <tr>\n",
       "      <th>...</th>\n",
       "      <td>...</td>\n",
       "      <td>...</td>\n",
       "      <td>...</td>\n",
       "    </tr>\n",
       "    <tr>\n",
       "      <th>29080886</th>\n",
       "      <td>a0ee9f75-1c7c-11ec-94c7-16262ee38c7f</td>\n",
       "      <td>2018-07-06</td>\n",
       "      <td>DRUG_TYPE_6</td>\n",
       "    </tr>\n",
       "    <tr>\n",
       "      <th>29080897</th>\n",
       "      <td>a0ee1284-1c7c-11ec-a3d5-16262ee38c7f</td>\n",
       "      <td>2017-12-29</td>\n",
       "      <td>DRUG_TYPE_6</td>\n",
       "    </tr>\n",
       "    <tr>\n",
       "      <th>29080900</th>\n",
       "      <td>a0ee9b26-1c7c-11ec-8a40-16262ee38c7f</td>\n",
       "      <td>2018-10-18</td>\n",
       "      <td>DRUG_TYPE_10</td>\n",
       "    </tr>\n",
       "    <tr>\n",
       "      <th>29080903</th>\n",
       "      <td>a0ee1a92-1c7c-11ec-8341-16262ee38c7f</td>\n",
       "      <td>2015-09-18</td>\n",
       "      <td>DRUG_TYPE_6</td>\n",
       "    </tr>\n",
       "    <tr>\n",
       "      <th>29080911</th>\n",
       "      <td>a0ee146e-1c7c-11ec-baee-16262ee38c7f</td>\n",
       "      <td>2018-10-05</td>\n",
       "      <td>DRUG_TYPE_1</td>\n",
       "    </tr>\n",
       "  </tbody>\n",
       "</table>\n",
       "<p>3220868 rows × 3 columns</p>\n",
       "</div>"
      ],
      "text/plain": [
       "                                   Patient-Uid       Date           Incident\n",
       "0         a0db1e73-1c7c-11ec-ae39-16262ee38c7f 2019-03-09  PRIMARY_DIAGNOSIS\n",
       "1         a0dc93f2-1c7c-11ec-9cd2-16262ee38c7f 2015-05-16  PRIMARY_DIAGNOSIS\n",
       "3         a0dc94c6-1c7c-11ec-a3a0-16262ee38c7f 2018-01-30     SYMPTOM_TYPE_0\n",
       "4         a0dc950b-1c7c-11ec-b6ec-16262ee38c7f 2015-04-22        DRUG_TYPE_0\n",
       "8         a0dc9543-1c7c-11ec-bb63-16262ee38c7f 2016-06-18        DRUG_TYPE_1\n",
       "...                                        ...        ...                ...\n",
       "29080886  a0ee9f75-1c7c-11ec-94c7-16262ee38c7f 2018-07-06        DRUG_TYPE_6\n",
       "29080897  a0ee1284-1c7c-11ec-a3d5-16262ee38c7f 2017-12-29        DRUG_TYPE_6\n",
       "29080900  a0ee9b26-1c7c-11ec-8a40-16262ee38c7f 2018-10-18       DRUG_TYPE_10\n",
       "29080903  a0ee1a92-1c7c-11ec-8341-16262ee38c7f 2015-09-18        DRUG_TYPE_6\n",
       "29080911  a0ee146e-1c7c-11ec-baee-16262ee38c7f 2018-10-05        DRUG_TYPE_1\n",
       "\n",
       "[3220868 rows x 3 columns]"
      ]
     },
     "execution_count": 15,
     "metadata": {},
     "output_type": "execute_result"
    }
   ],
   "source": [
    "df"
   ]
  },
  {
   "cell_type": "code",
   "execution_count": 16,
   "id": "754fd480",
   "metadata": {},
   "outputs": [],
   "source": [
    "target_drug = \"Target Drug\"\n",
    "df_target = df[df[\"Incident\"] == target_drug]"
   ]
  },
  {
   "cell_type": "code",
   "execution_count": 17,
   "id": "5cdc5bde",
   "metadata": {},
   "outputs": [
    {
     "data": {
      "text/html": [
       "<div>\n",
       "<style scoped>\n",
       "    .dataframe tbody tr th:only-of-type {\n",
       "        vertical-align: middle;\n",
       "    }\n",
       "\n",
       "    .dataframe tbody tr th {\n",
       "        vertical-align: top;\n",
       "    }\n",
       "\n",
       "    .dataframe thead th {\n",
       "        text-align: right;\n",
       "    }\n",
       "</style>\n",
       "<table border=\"1\" class=\"dataframe\">\n",
       "  <thead>\n",
       "    <tr style=\"text-align: right;\">\n",
       "      <th></th>\n",
       "      <th>Patient-Uid</th>\n",
       "      <th>Date</th>\n",
       "      <th>Incident</th>\n",
       "    </tr>\n",
       "  </thead>\n",
       "  <tbody>\n",
       "  </tbody>\n",
       "</table>\n",
       "</div>"
      ],
      "text/plain": [
       "Empty DataFrame\n",
       "Columns: [Patient-Uid, Date, Incident]\n",
       "Index: []"
      ]
     },
     "execution_count": 17,
     "metadata": {},
     "output_type": "execute_result"
    }
   ],
   "source": [
    "df_target"
   ]
  },
  {
   "cell_type": "code",
   "execution_count": 19,
   "id": "a86eb4f5",
   "metadata": {},
   "outputs": [],
   "source": [
    "# Convert the \"Date\" column to a proper date format\n",
    "df_target[\"Date\"] = pd.to_datetime(df_target[\"Date\"])"
   ]
  },
  {
   "cell_type": "code",
   "execution_count": 20,
   "id": "7d118e9f",
   "metadata": {},
   "outputs": [
    {
     "data": {
      "text/plain": [
       "Series([], Name: Date, dtype: datetime64[ns])"
      ]
     },
     "execution_count": 20,
     "metadata": {},
     "output_type": "execute_result"
    }
   ],
   "source": [
    "df_target[\"Date\"]"
   ]
  },
  {
   "cell_type": "code",
   "execution_count": 13,
   "id": "6e447e13",
   "metadata": {},
   "outputs": [],
   "source": [
    "# Step 2: Calculate the drop-off rate\n",
    "df_monthly = df_target.resample(\"M\", on=\"Date\").agg({\"Patient-Uid\": pd.Series.nunique})\n",
    "df_monthly[\"Drop-off Rate\"] = df_monthly[\"Patient-Uid\"].diff() / df_monthly[\"Patient-Uid\"].shift()"
   ]
  },
  {
   "cell_type": "code",
   "execution_count": 25,
   "id": "a6486259",
   "metadata": {},
   "outputs": [
    {
     "data": {
      "text/html": [
       "<div>\n",
       "<style scoped>\n",
       "    .dataframe tbody tr th:only-of-type {\n",
       "        vertical-align: middle;\n",
       "    }\n",
       "\n",
       "    .dataframe tbody tr th {\n",
       "        vertical-align: top;\n",
       "    }\n",
       "\n",
       "    .dataframe thead th {\n",
       "        text-align: right;\n",
       "    }\n",
       "</style>\n",
       "<table border=\"1\" class=\"dataframe\">\n",
       "  <thead>\n",
       "    <tr style=\"text-align: right;\">\n",
       "      <th></th>\n",
       "      <th>Patient-Uid</th>\n",
       "      <th>Drop-off Rate</th>\n",
       "    </tr>\n",
       "    <tr>\n",
       "      <th>Date</th>\n",
       "      <th></th>\n",
       "      <th></th>\n",
       "    </tr>\n",
       "  </thead>\n",
       "  <tbody>\n",
       "  </tbody>\n",
       "</table>\n",
       "</div>"
      ],
      "text/plain": [
       "Empty DataFrame\n",
       "Columns: [Patient-Uid, Drop-off Rate]\n",
       "Index: []"
      ]
     },
     "execution_count": 25,
     "metadata": {},
     "output_type": "execute_result"
    }
   ],
   "source": [
    "df_monthly"
   ]
  },
  {
   "cell_type": "code",
   "execution_count": 26,
   "id": "b12c6628",
   "metadata": {},
   "outputs": [
    {
     "data": {
      "text/plain": [
       "Series([], Freq: M, Name: Drop-off Rate, dtype: object)"
      ]
     },
     "execution_count": 26,
     "metadata": {},
     "output_type": "execute_result"
    }
   ],
   "source": [
    "df_monthly[\"Drop-off Rate\"]"
   ]
  },
  {
   "cell_type": "code",
   "execution_count": 28,
   "id": "b2f3aa46",
   "metadata": {},
   "outputs": [
    {
     "data": {
      "image/png": "[encoded data removed]",
      "text/plain": [
       "<Figure size 1000x600 with 1 Axes>"
      ]
     },
     "metadata": {},
     "output_type": "display_data"
    }
   ],
   "source": [
    "# Step 3: Visualize the drop-off rate\n",
    "plt.figure(figsize=(10, 6))\n",
    "plt.plot(df_monthly.index, df_monthly[\"Drop-off Rate\"])\n",
    "plt.xlabel(\"Month\")\n",
    "plt.ylabel(\"Drop-off Rate\")\n",
    "plt.title(\"Drop-off Rate of Target Drug over Time\")\n",
    "plt.show()"
   ]
  },
  {
   "cell_type": "code",
   "execution_count": 22,
   "id": "fc99e484",
   "metadata": {},
   "outputs": [],
   "source": [
    "# Step 4: Analyze events driving drop-off\n",
    "events_count = df_target[df_target[\"Date\"].dt.year == df_target[\"Date\"].dt.year.max()][\"Incident\"].value_counts()"
   ]
  },
  {
   "cell_type": "code",
   "execution_count": 23,
   "id": "0e7d2325",
   "metadata": {},
   "outputs": [
    {
     "data": {
      "text/plain": [
       "Series([], Name: Incident, dtype: int64)"
      ]
     },
     "execution_count": 23,
     "metadata": {},
     "output_type": "execute_result"
    }
   ],
   "source": [
    "events_count"
   ]
  },
  {
   "cell_type": "code",
   "execution_count": 24,
   "id": "ec473375",
   "metadata": {},
   "outputs": [
    {
     "name": "stdout",
     "output_type": "stream",
     "text": [
      "Events Driving Drop-off:\n",
      "Series([], Name: Incident, dtype: int64)\n"
     ]
    }
   ],
   "source": [
    "# Step 5: Generate insights\n",
    "print(\"Events Driving Drop-off:\")\n",
    "print(events_count)"
   ]
  },
  {
   "cell_type": "code",
   "execution_count": null,
   "id": "9e88463e",
   "metadata": {},
   "outputs": [],
   "source": []
  }
 ],
 "metadata": {
  "kernelspec": {
   "display_name": "Python 3 (ipykernel)",
   "language": "python",
   "name": "python3"
  },
  "language_info": {
   "codemirror_mode": {
    "name": "ipython",
    "version": 3
   },
   "file_extension": ".py",
   "mimetype": "text/x-python",
   "name": "python",
   "nbconvert_exporter": "python",
   "pygments_lexer": "ipython3",
   "version": "3.9.12"
  }
 },
 "nbformat": 4,
 "nbformat_minor": 5
}
